{
 "cells": [
  {
   "cell_type": "markdown",
   "metadata": {},
   "source": [
    "# 3i005 - projet 2 - 2019fev - <em><font color=\"red\">version définitive</font></em>\n",
    "# CLASSIFICATIONS PROBABILISTES\n",
    "\n",
    "\n",
    "Le but de ce projet est d'étudier les méthodes de classifications auxquelles les statistiques donnent accès naturellement. Il s'agira donc d'étudier les outils de classifications probabilistes. C'est bien évidemment une petite partie de l'ensemble des méthodes de classification existant.\n",
    "\n",
    "### Evaluation du projet\n",
    "L'ensemble des codes que vous réaliserez seront accessible à partir du ficher `projet.py`.  L'évaluation de votre code se fera à l'aide de données autres que celles du projet dans un programme qui commencera par importer votre `projet.py`. **il faudra donc une vigilance particulière à respecter les noms et la signature des classes, fonctions et méthodes ! Le code dans ce notebook ne doit pas être modifié, votre code dans `projet.py` doit permettre d'exécuter ce notebook et d'avoir les mêmes résultats que ceux de la version originale**.\n",
    "\n",
    "Si des questions méritent des réponses ouvertes, ces réponses seront insérées dans ce notebook dans une cellule immédiatement en dessous de celle contenant la question et nulle part ailleurs (la cellule existe et contient le texte `(votre réponse ici)`).\n",
    "\n",
    "**WARNING**: le notebook n'est pas statique et évoluera avec des questions supplémentaires durant le projet. Ne répondez donc pas directement aux questions ouvertes dans le notebook qui sera à écraser chaque semaine avec la nouvelle version (incrémentale). Répondez temporairement dans un fichier à part (par exemple dans des copies du notebook). Vous compléterez le notebook à la fin de la troisième semaine avant le rendu final.\n",
    "\n",
    "Une attention soutenue sera demandée à la documentation de votre code et à sa qualité ainsi qu'à la qualité des réponses ouvertes dans ce notebook.\n",
    "\n",
    "\n",
    "### Base utilisé : heart disease (Cleveland database)\n",
    "\n",
    "        This database contains 76 attributes, but all published experiments refer to using a subset of 14 of them. In particular, the Cleveland database is the only one that has been used by ML researchers to this date. \n",
    "        The `target` field refers to the presence of heart disease in the patient. It is integer valued from 0 (no presence) to 4. Experiments with the Cleveland database have concentrated on simply attempting to distinguish presence (values 1) from absence (value 0). \n",
    "\n",
    "| champs | definition |\n",
    "|--------|------------|\n",
    "|age|  age in years| \n",
    "|sex| (1 = male; 0 = female)| \n",
    "|cp|  chest pain type| \n",
    "|trestbps| resting blood pressure (in mm Hg on admission to the hospital)| \n",
    "|chol| serum cholestoral in mg/dl| \n",
    "|fbs| (fasting blood sugar > 120 mg/dl) (1 = true; 0 = false)| \n",
    "|restecg| resting electrocardiographic results| \n",
    "|thalach| maximum heart rate achieved| \n",
    "|exang| exercise induced angina (1 = yes; 0 = no)| \n",
    "|oldpeak| ST depression induced by exercise relative to rest| \n",
    "|slope|the slope of the peak exercise ST segment| \n",
    "|ca| number of major vessels (0-3) colored by flourosopy| \n",
    "|thal|3 = normal; 6 = fixed defect; 7 = reversable defect| \n",
    "|target| 1 or 0 | \n",
    "\n",
    "Notre but est donc de proposer des classifieurs qui tentent de prédire la valeur de `target` à partir des autres champs en utilisant des arguments probabilistes.\n",
    "\n",
    "## Simplification de la base (prélude au projet)"
   ]
  },
  {
   "cell_type": "code",
   "execution_count": 1,
   "metadata": {
    "ExecuteTime": {
     "end_time": "2019-03-29T08:53:47.017049Z",
     "start_time": "2019-03-29T08:53:46.827078Z"
    }
   },
   "outputs": [],
   "source": [
    "import pandas as pd # package for high-performance, easy-to-use data structures and data analysis\n",
    "import numpy as np # fundamental package for scientific computing with Python"
   ]
  },
  {
   "cell_type": "code",
   "execution_count": 2,
   "metadata": {
    "ExecuteTime": {
     "end_time": "2019-03-29T08:53:47.314835Z",
     "start_time": "2019-03-29T08:53:47.018951Z"
    },
    "scrolled": true
   },
   "outputs": [],
   "source": [
    "# to allow autoreload of projet.py\n",
    "%load_ext autoreload\n",
    "%autoreload 2\n",
    "\n",
    "import utils # deux fonctions dans le fichier utils.py\n",
    "import projet # votre code"
   ]
  },
  {
   "cell_type": "code",
   "execution_count": 3,
   "metadata": {
    "ExecuteTime": {
     "end_time": "2019-03-29T08:53:47.514324Z",
     "start_time": "2019-03-29T08:53:47.316206Z"
    }
   },
   "outputs": [
    {
     "data": {
      "text/html": [
       "<div>\n",
       "<style scoped>\n",
       "    .dataframe tbody tr th:only-of-type {\n",
       "        vertical-align: middle;\n",
       "    }\n",
       "\n",
       "    .dataframe tbody tr th {\n",
       "        vertical-align: top;\n",
       "    }\n",
       "\n",
       "    .dataframe thead th {\n",
       "        text-align: right;\n",
       "    }\n",
       "</style>\n",
       "<table border=\"1\" class=\"dataframe\">\n",
       "  <thead>\n",
       "    <tr style=\"text-align: right;\">\n",
       "      <th></th>\n",
       "      <th>age</th>\n",
       "      <th>sex</th>\n",
       "      <th>cp</th>\n",
       "      <th>trestbps</th>\n",
       "      <th>chol</th>\n",
       "      <th>fbs</th>\n",
       "      <th>restecg</th>\n",
       "      <th>thalach</th>\n",
       "      <th>exang</th>\n",
       "      <th>oldpeak</th>\n",
       "      <th>slope</th>\n",
       "      <th>ca</th>\n",
       "      <th>thal</th>\n",
       "      <th>target</th>\n",
       "    </tr>\n",
       "  </thead>\n",
       "  <tbody>\n",
       "    <tr>\n",
       "      <th>0</th>\n",
       "      <td>63</td>\n",
       "      <td>1</td>\n",
       "      <td>3</td>\n",
       "      <td>145</td>\n",
       "      <td>233</td>\n",
       "      <td>1</td>\n",
       "      <td>0</td>\n",
       "      <td>150</td>\n",
       "      <td>0</td>\n",
       "      <td>2.3</td>\n",
       "      <td>0</td>\n",
       "      <td>0</td>\n",
       "      <td>1</td>\n",
       "      <td>1</td>\n",
       "    </tr>\n",
       "    <tr>\n",
       "      <th>1</th>\n",
       "      <td>37</td>\n",
       "      <td>1</td>\n",
       "      <td>2</td>\n",
       "      <td>130</td>\n",
       "      <td>250</td>\n",
       "      <td>0</td>\n",
       "      <td>1</td>\n",
       "      <td>187</td>\n",
       "      <td>0</td>\n",
       "      <td>3.5</td>\n",
       "      <td>0</td>\n",
       "      <td>0</td>\n",
       "      <td>2</td>\n",
       "      <td>1</td>\n",
       "    </tr>\n",
       "    <tr>\n",
       "      <th>2</th>\n",
       "      <td>41</td>\n",
       "      <td>0</td>\n",
       "      <td>1</td>\n",
       "      <td>130</td>\n",
       "      <td>204</td>\n",
       "      <td>0</td>\n",
       "      <td>0</td>\n",
       "      <td>172</td>\n",
       "      <td>0</td>\n",
       "      <td>1.4</td>\n",
       "      <td>2</td>\n",
       "      <td>0</td>\n",
       "      <td>2</td>\n",
       "      <td>1</td>\n",
       "    </tr>\n",
       "    <tr>\n",
       "      <th>3</th>\n",
       "      <td>56</td>\n",
       "      <td>1</td>\n",
       "      <td>1</td>\n",
       "      <td>120</td>\n",
       "      <td>236</td>\n",
       "      <td>0</td>\n",
       "      <td>1</td>\n",
       "      <td>178</td>\n",
       "      <td>0</td>\n",
       "      <td>0.8</td>\n",
       "      <td>2</td>\n",
       "      <td>0</td>\n",
       "      <td>2</td>\n",
       "      <td>1</td>\n",
       "    </tr>\n",
       "    <tr>\n",
       "      <th>4</th>\n",
       "      <td>57</td>\n",
       "      <td>0</td>\n",
       "      <td>0</td>\n",
       "      <td>120</td>\n",
       "      <td>354</td>\n",
       "      <td>0</td>\n",
       "      <td>1</td>\n",
       "      <td>163</td>\n",
       "      <td>1</td>\n",
       "      <td>0.6</td>\n",
       "      <td>2</td>\n",
       "      <td>0</td>\n",
       "      <td>2</td>\n",
       "      <td>1</td>\n",
       "    </tr>\n",
       "  </tbody>\n",
       "</table>\n",
       "</div>"
      ],
      "text/plain": [
       "   age  sex  cp  trestbps  chol  fbs  restecg  thalach  exang  oldpeak  slope  \\\n",
       "0   63    1   3       145   233    1        0      150      0      2.3      0   \n",
       "1   37    1   2       130   250    0        1      187      0      3.5      0   \n",
       "2   41    0   1       130   204    0        0      172      0      1.4      2   \n",
       "3   56    1   1       120   236    0        1      178      0      0.8      2   \n",
       "4   57    0   0       120   354    0        1      163      1      0.6      2   \n",
       "\n",
       "   ca  thal  target  \n",
       "0   0     1       1  \n",
       "1   0     2       1  \n",
       "2   0     2       1  \n",
       "3   0     2       1  \n",
       "4   0     2       1  "
      ]
     },
     "execution_count": 3,
     "metadata": {},
     "output_type": "execute_result"
    }
   ],
   "source": [
    "data=pd.read_csv(\"heart.csv\")\n",
    "data.head()"
   ]
  },
  {
   "cell_type": "code",
   "execution_count": 4,
   "metadata": {
    "ExecuteTime": {
     "end_time": "2019-03-29T08:53:49.073518Z",
     "start_time": "2019-03-29T08:53:47.516440Z"
    },
    "scrolled": false
   },
   "outputs": [
    {
     "name": "stderr",
     "output_type": "stream",
     "text": [
      "/home/angelo/anaconda3/lib/python3.7/site-packages/scipy/stats/stats.py:1713: FutureWarning: Using a non-tuple sequence for multidimensional indexing is deprecated; use `arr[tuple(seq)]` instead of `arr[seq]`. In the future this will be interpreted as an array index, `arr[np.array(seq)]`, which will result either in an error or a different result.\n",
      "  return np.add.reduce(sorted[indexer] * weights, axis=axis) / sumval\n"
     ]
    },
    {
     "data": {
      "image/png": "[encoded data removed]",
      "text/plain": [
       "<Figure size 1152x576 with 14 Axes>"
      ]
     },
     "metadata": {
      "needs_background": "light"
     },
     "output_type": "display_data"
    }
   ],
   "source": [
    "utils.viewData(data)"
   ]
  },
  {
   "cell_type": "markdown",
   "metadata": {},
   "source": [
    "Certaines variabless comme `age`, `thalach`, etc. possèdent un grand nombre de modalités, rendant difficile le traitement. Nous simplifions donc la base en discrétisant au mieux toutes les variables qui ont plus de 5 valeurs."
   ]
  },
  {
   "cell_type": "code",
   "execution_count": 5,
   "metadata": {
    "ExecuteTime": {
     "end_time": "2019-03-29T08:53:49.478270Z",
     "start_time": "2019-03-29T08:53:49.075648Z"
    }
   },
   "outputs": [],
   "source": [
    "discretise=utils.discretizeData(data)\n",
    "#utils.viewData(discretise,kde=False)"
   ]
  },
  {
   "cell_type": "markdown",
   "metadata": {},
   "source": [
    "Nous utilisons maintenant 2 fichiers csv préparés à partir de cette base afin de rendre les résultats plus intéressants (en particulier, les 2 classes sont un peu plus déséquilibrées)."
   ]
  },
  {
   "cell_type": "code",
   "execution_count": 6,
   "metadata": {
    "ExecuteTime": {
     "end_time": "2019-03-29T08:53:51.066511Z",
     "start_time": "2019-03-29T08:53:49.479579Z"
    },
    "scrolled": false
   },
   "outputs": [
    {
     "data": {
      "image/png": "[encoded data removed]",
      "text/plain": [
       "<Figure size 1152x576 with 14 Axes>"
      ]
     },
     "metadata": {
      "needs_background": "light"
     },
     "output_type": "display_data"
    }
   ],
   "source": [
    "train=pd.read_csv(\"train.csv\")\n",
    "test=pd.read_csv(\"test.csv\")\n",
    "utils.viewData(train,kde=False)   "
   ]
  },
  {
   "cell_type": "markdown",
   "metadata": {},
   "source": [
    "À partir de maintenant, nous utilisons le dataframe `train` qui contient les données pour l'apprentissage et `test` qui contient les données pour la validation.\n",
    "\n",
    "# Classification a priori\n",
    "\n",
    "## Question 1 \n",
    "Dans une fonction `getPrior`, calculer la probabilité a priori de la classe $1$ ainsi que l'intervalle de confiance à 95% pour l'estimation de cette probabilité."
   ]
  },
  {
   "cell_type": "code",
   "execution_count": 7,
   "metadata": {
    "ExecuteTime": {
     "end_time": "2019-03-29T08:53:51.083808Z",
     "start_time": "2019-03-29T08:53:51.068170Z"
    }
   },
   "outputs": [
    {
     "data": {
      "text/plain": [
       "{'estimation': 0.7453874538745388,\n",
       " 'min5pourcent': 0.7087109975695709,\n",
       " 'max5pourcent': 0.7820639101795066}"
      ]
     },
     "execution_count": 7,
     "metadata": {},
     "output_type": "execute_result"
    }
   ],
   "source": [
    "projet.getPrior(train) # ou project.getPrior(\"train.csv\")"
   ]
  },
  {
   "cell_type": "markdown",
   "metadata": {},
   "source": [
    "## Question 2"
   ]
  },
  {
   "cell_type": "markdown",
   "metadata": {},
   "source": [
    "On propose une classe permettant de représenter un classifieur. Un classifieur répond à une question principale : étant donné un individu, connu par ses attributs, quelle est sa classe ?\n",
    "Nous proposons donc une classe simple qu'il s'agira d'améliorer : `AbstractClassifier` dans le fichier `utils.py` \n",
    "\n",
    "### Question 2a\n",
    "Ecrire dans `projet.py` un classifieur `APrioriClassifier` (enfant de `AbstractClassifier`) qui utilise le résultat de la question 1 pour estimer très simplement la classe de chaque individu par la classe majoritaire.  "
   ]
  },
  {
   "cell_type": "code",
   "execution_count": 8,
   "metadata": {
    "ExecuteTime": {
     "end_time": "2019-03-29T08:53:51.145652Z",
     "start_time": "2019-03-29T08:53:51.085423Z"
    }
   },
   "outputs": [],
   "source": [
    "cl=projet.APrioriClassifier()\n",
    "clpredite=cl.estimClass(None) # n'importe quoi donne la même classe pour un classifieur a priori \n",
    "# la valeur prédite n'est pas affichée sciemment"
   ]
  },
  {
   "cell_type": "markdown",
   "metadata": {},
   "source": [
    "<div style=\"float:right;margin:0 10px 10px 0\">\n",
    "    <img src=\"PrecisionRappel.png\">\n",
    "</div>\n",
    "\n",
    "### Question 2b : évaluation de classifieurs\n",
    "\n",
    "Implémenter également la méthode `statsOnDF` qui rendra les valeurs suivantes :\n",
    "\n",
    "- VP : nombre d'individus avec target=1 et classe prévue=1\n",
    "- VN : nombre d'individus avec target=0 et classe prévue=0\n",
    "- FP : nombre d'individus avec target=0 et classe prévue=1\n",
    "- FN : nombre d'individus avec target=1 et classe prévue=0\n",
    "- précision \n",
    "- rappel\n",
    "\n",
    "\n",
    "- <i>Petite aide : comment itérer sur un dataframe</i>\n",
    "\n",
    "`for t in train.itertuples():\n",
    "    dic=t._asdict()\n",
    "    print(\"ca={} oldpeak={} target={}\".format(dic['ca'],dic['oldpeak'],dic['target']))\n",
    "`\n",
    "\n",
    "- <i>Par ailleurs, dans utils, il y a une fonction `getNthDict(df,n)` qui rend le dictionnaire des attributs de la $n$ième ligne dans `df`.</i>\n",
    "    \n",
    "`\n",
    "getNthDict(train,0)\n",
    "{'age': 9, 'sex': 1, 'cp': 3, 'trestbps': 9, 'chol': 6, 'fbs': 1, 'restecg': 0, 'thalach': 9, 'exang': 0, 'oldpeak': 6, 'slope': 0, 'ca': 0, 'thal': 1, 'target': 1}\n",
    "`"
   ]
  },
  {
   "cell_type": "code",
   "execution_count": 9,
   "metadata": {
    "ExecuteTime": {
     "end_time": "2019-03-29T08:53:51.210931Z",
     "start_time": "2019-03-29T08:53:51.147281Z"
    }
   },
   "outputs": [
    {
     "name": "stdout",
     "output_type": "stream",
     "text": [
      "test en apprentissage : {'VP': 404, 'VN': 0, 'FP': 138, 'FN': 0, 'Precision': 0.7453874538745388, 'Rappel': 1.0}\n",
      "test en validation: {'VP': 138, 'VN': 0, 'FP': 62, 'FN': 0, 'Precision': 0.69, 'Rappel': 1.0}\n"
     ]
    }
   ],
   "source": [
    "cl=projet.APrioriClassifier()\n",
    "print(\"test en apprentissage : {}\".format(cl.statsOnDF(train)))\n",
    "print(\"test en validation: {}\".format(cl.statsOnDF(test)))"
   ]
  },
  {
   "cell_type": "markdown",
   "metadata": {},
   "source": [
    "## Question 3 : classification probabiliste à 2 dimensions\n",
    "\n",
    "La classification a priori ne donne pas d'excellents résultats puiqu'elle se contente de la règle majoritaire. On se propose donc maintenant essayer d'enrichir notre processus de décision en tenant compte d'une caractéristique de la base de données.\n",
    "\n",
    "### Question 3.a : probabilités conditionelles\n",
    "\n",
    "Écrire une fonction `P2D_l(df,attr)` qui calcule dans le dataframe la probabilité $P(attr|target)$ sous la forme d'un dictionnaire asssociant à la valeur $t$ un dictionnaire associant à la valeur $a$ la probabilité $P(attr=a|target=t)$."
   ]
  },
  {
   "cell_type": "code",
   "execution_count": 10,
   "metadata": {
    "ExecuteTime": {
     "end_time": "2019-03-29T08:53:51.279448Z",
     "start_time": "2019-03-29T08:53:51.212672Z"
    }
   },
   "outputs": [
    {
     "data": {
      "text/plain": [
       "{0: {0: 0.007246376811594203,\n",
       "  1: 0.08695652173913043,\n",
       "  2: 0.2608695652173913,\n",
       "  3: 0.644927536231884},\n",
       " 1: {0: 0.007425742574257425,\n",
       "  1: 0.03217821782178218,\n",
       "  2: 0.7821782178217822,\n",
       "  3: 0.1782178217821782}}"
      ]
     },
     "execution_count": 10,
     "metadata": {},
     "output_type": "execute_result"
    }
   ],
   "source": [
    "projet.P2D_l(train,'thal')"
   ]
  },
  {
   "cell_type": "markdown",
   "metadata": {},
   "source": [
    "Écrire une fonction `P2D_p(df,attr)` qui calcule dans le dataframe la probabilité $P(target|attr)$ sous la forme d'un dictionnaire associant à la valeur $a$ un dictionnaire asssociant à la valeur $t$ la probabilité $P(target=t|attr=a)$."
   ]
  },
  {
   "cell_type": "code",
   "execution_count": 11,
   "metadata": {
    "ExecuteTime": {
     "end_time": "2019-03-29T08:53:51.332865Z",
     "start_time": "2019-03-29T08:53:51.280941Z"
    }
   },
   "outputs": [
    {
     "data": {
      "text/plain": [
       "{0: {0: 0.25, 1: 0.75},\n",
       " 1: {0: 0.48, 1: 0.52},\n",
       " 2: {0: 0.10227272727272728, 1: 0.8977272727272727},\n",
       " 3: {0: 0.5527950310559007, 1: 0.44720496894409945}}"
      ]
     },
     "execution_count": 11,
     "metadata": {},
     "output_type": "execute_result"
    }
   ],
   "source": [
    "projet.P2D_p(train,'thal')"
   ]
  },
  {
   "cell_type": "markdown",
   "metadata": {},
   "source": [
    "### Question 3.b : classifieurs 2D par maximum de vraisemblance\n",
    "\n",
    "Supposons qu'un individu ait la valeur $a$ pour l'$attr$, un classifieur du type $P2D_l$ pourrrait donc utiliser  $P(attr=a|target=t)$ et sélectionner comme estimation de la classe de l'individu la valeur $t=0$ ou $t=1$ maximisant cette probabilité. $P(attr=a|target)$ est la vraisemblance d'observer $attr=a$ quand $target=0$ ou $target=1$. Un tel classifieur utilise donc le principe du **maximum de vraisemblance** (ML=Max Likelihood). \n",
    "\n",
    "Pour construire un tel classifieur, il faut initialiser l'attribut utilisé puis construire la table `P2Dl`. La fonction `estimClass` rendra la position du maximum trouvé dans cette table.\n",
    "\n",
    "\n",
    "> Supposons un individu dont $thal=3$, alors dans la table P2Dl, on trouve $0.178$ pour $target=1$ et $0.644$ pour $target=0$, la bonne classe d'après le critère du ML est donc $0$\n",
    "\n",
    "Écrire une classe `ML2DClassifier` qui utilise une telle procédure de maximum de vraisemblance pour estimer la classe d'un individu. Afin de ne pas avoir à réécrire la méthode `statsOnDF` qui ne devrait pas changer, `ML2DClassifier` aura pour parent la classe `APrioriClassifier`.\n",
    "\n",
    "**PS**- penser bien à calculer une seule fois la table `P2Dl` dans le constructeur de la classe afin de ne pas itérer sur toute la base à chaque fois que vous appelez la méthode `estimClass`.\n",
    "\n",
    "**PS2**- Dans les cas d'égalité des 2 probabilités, on choisira la classe 0."
   ]
  },
  {
   "cell_type": "code",
   "execution_count": 12,
   "metadata": {
    "ExecuteTime": {
     "end_time": "2019-03-29T08:53:51.426987Z",
     "start_time": "2019-03-29T08:53:51.334254Z"
    }
   },
   "outputs": [
    {
     "name": "stdout",
     "output_type": "stream",
     "text": [
      "Estimation de la classe de l'individu 0 par ML2DClassifier : 0\n",
      "Estimation de la classe de l'individu 1 par ML2DClassifier : 1\n",
      "Estimation de la classe de l'individu 2 par ML2DClassifier : 1\n"
     ]
    }
   ],
   "source": [
    "cl=projet.ML2DClassifier(train,\"thal\") # cette ligne appelle projet.P2Dl(train,\"thal\")\n",
    "for i in [0,1,2]:\n",
    "    print(\"Estimation de la classe de l'individu {} par ML2DClassifier : {}\".format(i,cl.estimClass(utils.getNthDict(train,i)))) "
   ]
  },
  {
   "cell_type": "code",
   "execution_count": 13,
   "metadata": {
    "ExecuteTime": {
     "end_time": "2019-03-29T08:53:51.486391Z",
     "start_time": "2019-03-29T08:53:51.428533Z"
    }
   },
   "outputs": [
    {
     "name": "stdout",
     "output_type": "stream",
     "text": [
      "test en apprentissage : {'VP': 319, 'VN': 101, 'FP': 37, 'FN': 85, 'Precision': 0.8960674157303371, 'Rappel': 0.7896039603960396}\n",
      "test en validation: {'VP': 113, 'VN': 48, 'FP': 14, 'FN': 25, 'Precision': 0.889763779527559, 'Rappel': 0.8188405797101449}\n"
     ]
    }
   ],
   "source": [
    "print(\"test en apprentissage : {}\".format(cl.statsOnDF(train)))\n",
    "print(\"test en validation: {}\".format(cl.statsOnDF(test)))"
   ]
  },
  {
   "cell_type": "markdown",
   "metadata": {},
   "source": [
    "### Question 3.c : classifieurs 2D par maximum a posteriori\n",
    "\n",
    "Supposons qu'un individu ait la valeur $a$ pour l'$attr$, un classifieur du type $P2D_p$ pourrrait donc utiliser  $P(target=t|attr=a)$ et sélectionner comme estimation de la classe de l'individu la valeur $t=0$ ou $t=1$ maximisant cette probabilité. $P(target|attr=a)$ est la distribution a posteriori de $target$ après avoir observé $attr=a$. Un tel classifieur utilise donc le principe du **maximum a posteriori** (MAP). \n",
    "\n",
    "Pour construire un tel classifieur, il faut initialiser l'attribut utilisé puis construire la table `P2Dp`. La fonction `estimClass` rendra la position du maximum trouvé dans cette table.\n",
    "\n",
    "> Supposons un individu dont $thal=3$, alors dans la table P2Dp, on trouve $0.447$ pour $target=1$ et $0.552$ pour $target=0$, la bonne classe d'après le critère du ML est donc $0$\n",
    "\n",
    "Écrire une classe `MAP2DClassifier` qui utilise une telle procédure de maximum de vraisemblance pour estimer la classe d'un individu. Afin de ne pas avoir à réécrire la méthode `statsOnDF` qui ne devrait pas changer, `MAP2DClassifier` héritera de `AprioriClassifier`.\n",
    "\n",
    "**PS**- penser bien à calculer une seule fois la table `P2Dp` dans le constructeur afin de ne pas itérer sur toute la base à chaque fois que vous appelez la méthode `estimClass`.\n",
    "\n",
    "**PS2**- Dans les cas d'égalité des 2 probabilités, on choisira la classe 0."
   ]
  },
  {
   "cell_type": "code",
   "execution_count": 14,
   "metadata": {
    "ExecuteTime": {
     "end_time": "2019-03-29T08:53:51.558346Z",
     "start_time": "2019-03-29T08:53:51.487850Z"
    }
   },
   "outputs": [
    {
     "name": "stdout",
     "output_type": "stream",
     "text": [
      "Estimation de la classe de l'individu 0 par MAP2DClasssifer) : 1\n",
      "Estimation de la classe de l'individu 1 par MAP2DClasssifer) : 1\n",
      "Estimation de la classe de l'individu 2 par MAP2DClasssifer) : 1\n"
     ]
    }
   ],
   "source": [
    "cl=projet.MAP2DClassifier(train,\"thal\") # cette ligne appelle projet.P2Dp(train,\"thal\")\n",
    "for i in [0,1,2]:\n",
    "    print(\"Estimation de la classe de l'individu {} par MAP2DClasssifer) : {}\".format(i,cl.estimClass(utils.getNthDict(train,i)))) "
   ]
  },
  {
   "cell_type": "code",
   "execution_count": 15,
   "metadata": {
    "ExecuteTime": {
     "end_time": "2019-03-29T08:53:51.628183Z",
     "start_time": "2019-03-29T08:53:51.559885Z"
    }
   },
   "outputs": [
    {
     "name": "stdout",
     "output_type": "stream",
     "text": [
      "test en apprentissage : {'VP': 332, 'VN': 89, 'FP': 49, 'FN': 72, 'Precision': 0.8713910761154856, 'Rappel': 0.8217821782178217}\n",
      "test en validation: {'VP': 114, 'VN': 43, 'FP': 19, 'FN': 24, 'Precision': 0.8571428571428571, 'Rappel': 0.8260869565217391}\n"
     ]
    }
   ],
   "source": [
    "print(\"test en apprentissage : {}\".format(cl.statsOnDF(train)))\n",
    "print(\"test en validation: {}\".format(cl.statsOnDF(test)))"
   ]
  },
  {
   "cell_type": "markdown",
   "metadata": {},
   "source": [
    "### Question 3.d - comparaison\n",
    "\n",
    "<div style=\"float:left;margin:0 10px 10px 0\">\n",
    "    <img src=\"question.png\">\n",
    "</div>\n",
    "Quelle classifieur préférez-vous en théorie entre `APrioriClassifier`, `ML2DClassifier` et `MAP2DClassifier` ? Quels résultats vous semble-les plus intéressants ?"
   ]
  },
  {
   "cell_type": "markdown",
   "metadata": {},
   "source": [
    "## Comparaison entre APrioriClassifier, ML2DClassifier et MAP2DClassifier\n",
    "\n",
    "\n",
    "### APrioriClassifier : \n",
    "**Ce classifieur est sans doute le moins intéressant car il estime la classe de n'importe quel individu par la classe majoritaire. \n",
    "Le rappel étant à 100%, le classifieur a donc identifié correctement tous les résultats positifs réels ; cependant, seulement une proportion de 69% d'identifications positives correspond à des exemples positifs réels, ce qui est très faible. On a donc un couple (Précision, Rappel) pas très bon.**\n",
    "\n",
    "<br></br>\n",
    "### ML2DClassifier :\n",
    "**Ce classifieur est basé sur le principe du maximum de vraisemblance pour estimer la classe d'un individu.\n",
    "Ce classifieur a identifié correctement 81,8% des résultats positifs réels et la proportion d'identifications positives qui ont été effectivement bien classées est 88,97%, ce qui donne un très bon couple (Precision, Rappel)=( 88,97%,81,8%).\n",
    "On peut donc dire qu'il est considérablement meilleur que le classifieur a priori**\n",
    "\n",
    "<br></br>\n",
    "### MAP2DClassifier : \n",
    "**Ce classifieur est basé sur le principe du maximum a posteriori pour estimer la classe d'un individu. Il donne un couple (Precision, Rappel) = (85,7%,82,6%) très bon et assez proche de celui du classifier ML2D.**\n",
    "\n",
    "**Afin de mieux apprécier la différence entre les classifieurs MAP2DClassifier et ML2DClassifier, calculons la F-mesure $$\\frac{rappel + précision}{2 * rappel * précision}$$**\n",
    "\n",
    "\n",
    "\n",
    "$$F-mesure_{ MAP2DClassifier } = \\frac{0,826 + 0,857}{2 * 0,826 * 0,857} = 1,1886 $$\n",
    "$$F-mesure_{ ML2DClassifier } = \\frac{0,8188 + 0,8897}{2 * 0,8188 * 0,8897} = 1,1726 $$\n",
    "\n",
    "<br></br>\n",
    "### Commentaires finaux\n",
    "**En théorie, on préfère le classifieur `MAP2DClassifier` car il est basé sur les probabilités, alors que `ML2DClassifier` est basé sur la vraisemblance et marche bien plutôt lorsque les classes sont à peu près équiprobables. Comme dit précédemment, le classifieur *a priori* est biaisé vers la classe majoritaire, ce qui reste très peu généralisable à d'autres jeux de données.**\n",
    "\n",
    "**De ces faits, nous avons été surpris des très bons résultats obtenus par `ML2DClassifier`, qui sont très proches de `MAP2DClassifier`.**"
   ]
  },
  {
   "cell_type": "markdown",
   "metadata": {
    "ExecuteTime": {
     "end_time": "2019-02-26T17:42:46.154475Z",
     "start_time": "2019-02-26T17:42:46.135618Z"
    }
   },
   "source": [
    "## Question 4\n",
    "\n",
    "On peut bien sûr se dire que les classifieurs ont intérêt à utiliser le plus d'information possible. Il serait donc pertinent de construire les classifieurs `ML3DClassifier`, `MAP3DClassifier`, ..., `ML14DClassifier` et `MAP14DClassifier` où les \"$x$ `DClassifier`\" prendrait $x-1$ attributs pour construire la prédiction de `target`. Toutefois, un problème va nous arrêter : les tables $P14Da$ et $P14Db$ sont de bien trop grande taille. \n",
    "\n",
    "### Question 4.1 : complexité en mémoire\n",
    "\n",
    "Écrire une fonction `nbrParams` qui calcule la taille mémoire de ces tables $P(target|attr_1,..,attr_k)$ étant donné un dataframe et la liste $[target,attr_1,...,attr_l]$ en supposant qu'un float est représenté sur 8octets."
   ]
  },
  {
   "cell_type": "code",
   "execution_count": 16,
   "metadata": {
    "ExecuteTime": {
     "end_time": "2019-03-29T08:53:51.691255Z",
     "start_time": "2019-03-29T08:53:51.630071Z"
    }
   },
   "outputs": [
    {
     "name": "stdout",
     "output_type": "stream",
     "text": [
      "1  variable(s) :  16  octets \n",
      "2  variable(s) :  64  octets \n",
      "2  variable(s) :  208  octets \n",
      "5  variable(s) :  3328  octets 3ko 256o\n",
      "8  variable(s) :  798720  octets 780ko 0o\n",
      "14  variable(s) :  58657996800  octets 54go 644mo 640ko 0o\n"
     ]
    }
   ],
   "source": [
    "projet.nbParams(train,['target'])\n",
    "projet.nbParams(train,['target','thal'])\n",
    "projet.nbParams(train,['target','age'])\n",
    "projet.nbParams(train,['target','age','thal','sex','exang'])\n",
    "projet.nbParams(train,['target','age','thal','sex','exang','slope','ca','chol'])\n",
    "projet.nbParams(train)"
   ]
  },
  {
   "cell_type": "markdown",
   "metadata": {
    "ExecuteTime": {
     "end_time": "2019-02-26T18:01:27.881999Z",
     "start_time": "2019-02-26T18:01:27.849438Z"
    }
   },
   "source": [
    "On ne peut donc pas manipuler de telles tables et il faut trouver de nouvelles façon de représenter les distributions de probabilités, quitte à en faire des approximations. \n",
    "\n",
    "La meilleure façon de simplifier la représentation d'une distribution de probabilité est d'utiliser des hypothèses d'indépendances. Ainsi, dans une loi jointe des variables $A,B,C,D,E$, si on suppose l'indépendance de ces 5 variables, on sait qu'on pourra écrire que $$P(A,B,C,D,E)=P(A)*P(B)*P(C)*P(D)*P(E)$$ et donc remplacer un tableau à 5 dimensions par 5 tableaux monodimensionnels.\n",
    "\n",
    "### Question 4.2 : complexité en mémoire sous hypothèse d'indépendance complète\n",
    "\n",
    "Ecrire une fonction `nbrParamsIndep` qui calcule la taille mémoire nécessaire pour représenter les tables de probabilité étant donné un dataframe, en supposant qu'un float est représenté sur 8octets et **en supposant l'indépendance des variables**."
   ]
  },
  {
   "cell_type": "code",
   "execution_count": 17,
   "metadata": {
    "ExecuteTime": {
     "end_time": "2019-03-29T08:53:51.755378Z",
     "start_time": "2019-03-29T08:53:51.693039Z"
    }
   },
   "outputs": [
    {
     "name": "stdout",
     "output_type": "stream",
     "text": [
      "1  variable(s) :  16  octets\n",
      "2  variable(s) :  48  octets\n",
      "2  variable(s) :  120  octets\n",
      "5  variable(s) :  184  octets\n",
      "8  variable(s) :  376  octets\n",
      "14  variable(s) :  800  octets\n"
     ]
    }
   ],
   "source": [
    "projet.nbParamsIndep(train[['target']])\n",
    "projet.nbParamsIndep(train[['target','thal']])\n",
    "projet.nbParamsIndep(train[['target','age']])\n",
    "projet.nbParamsIndep(train[['target','age','thal','sex','exang']])\n",
    "projet.nbParamsIndep(train[['target','age','thal','sex','exang','slope','ca','chol']])\n",
    "projet.nbParamsIndep(train)"
   ]
  },
  {
   "cell_type": "markdown",
   "metadata": {
    "ExecuteTime": {
     "end_time": "2019-02-26T18:44:09.655041Z",
     "start_time": "2019-02-26T18:44:09.635967Z"
    }
   },
   "source": [
    "### Question 4.3\n",
    "\n",
    "L'indépendance complète comme ci-dessus amène forcément à un classifier a priori (aucun attribut n'apporte d'information sur `target`).\n",
    "\n",
    "Nous allons donc essayer de trouver des modèles supposant une certaine forme d'indépendance partielle qui permettra d'alléger quand même la représentation en mémoire de la distribution de probabilités. Ce sont les indépendances conditionnelles. Si l'on sait par exemple que $A$ est indépendant de $C$ sachant $B$, on peut écrire la loi jointe :\n",
    "$$P(A,B,C)=P(A)*P(B|A)*P(C|B)$$\n",
    "\n",
    "\n",
    "<div style=\"float:left;margin:0 10px 10px 0\">\n",
    "    <img src=\"question.png\">\n",
    "</div>\n",
    "Pouvez vous le prouvez ?"
   ]
  },
  {
   "cell_type": "markdown",
   "metadata": {},
   "source": [
    "### Montrons que $$P(A,B,C)=P(A)\\cdot P(B|A)\\cdot P(C|B)$$\n",
    "D'après l'hypothèse d'indépendace conditionnelle de A par rapport à C sachant B, $$P(A|C,B) = P(A|B).   \\hspace{14cm} (1)$$\n",
    "\n",
    "De plus, la formule des probabilités composées nous donne: $$P(A, B, C)= P(B, C, A) =  P(B) * P(C|B) * P(A|C, B).  \\hspace{6.2cm}(2)$$ \n",
    "\n",
    "D'après (1): \n",
    "$$P(A, B, C) = P(C|B) * P(A|B) * P(B)   \\hspace{10.5cm} (3)$$ \n",
    "\n",
    "D'après la formule de Bayes:\n",
    "$$P(B) * P(A|B) = P(A) * P(B|A).    \\hspace{11.5cm}(4)$$ \n",
    "\n",
    "En remplaçant (4) dans (3) et en reordonnant les facteurs, on obtient:\n",
    "$$P(A, B, C)=P(A)*P(B|A)*P(C|B)$$"
   ]
  },
  {
   "cell_type": "markdown",
   "metadata": {
    "ExecuteTime": {
     "end_time": "2019-02-27T07:49:50.004708Z",
     "start_time": "2019-02-27T07:49:49.983730Z"
    }
   },
   "source": [
    "<div style=\"float:left;margin:0 10px 10px 0\">\n",
    "    <img src=\"question.png\">\n",
    "</div>\n",
    "Si les 3 variables $A$, $B$ et $C$ ont $5$ valeurs, quelle est la taille mémoire en octet nécessaire pour représenter cette distribution avec et sans l'utilisation de l'indépendance conditionnelle ?"
   ]
  },
  {
   "cell_type": "markdown",
   "metadata": {},
   "source": [
    "### Sans utiliser l'indépendance conditionnelle\n",
    "***Notation : Distincts(X) : Nombre de valeurs distincts de la variable X***\n",
    "\n",
    "Si on est dans le cas où toutes les variables sont dépendantes, alors pour chacune de ces variables, nous devons considérer toutes les valeurs que peuvent prendre les autres attributs.\n",
    "Donc, le nombre de probabilités est égal au produit du nombre de valeurs distincts de chaque variable: $$ \\prod_{X \\in \\{A,B,C\\}} \\mbox{Distincts(X)}$$\n",
    "On multiplie ensuite ce nombre par la taille d'un float.\n",
    "Donc, on trouve $$5 \\times 5 \\times 5 = 125 triplets distincts,$$\n",
    "$$\\text{et la taille en mémoire : } 125 \\cdot 8 = 1000 \\text{ octets.}$$\n",
    "\n",
    "### En utilisant l'indépendance conditionnelle\n",
    "Avec l'utilisation de l'intépendance conditionnelle, les variables ne sont plus vraiment dépendantes. De plus, on a: $$P(A,B,C)=P(A)\\cdot P(B|A)\\cdot P(C|B).$$\n",
    "\n",
    "Donc, le nombre de probabilités à calculer est : $$Distincts(A)+Distincts(B)*Distincts(A)+Distincts(C)*Distincts(B).$$\n",
    "\n",
    "Le nombre de probabilités à calculer est $$5 + 5^{2} + 5^{2} = 55,$$\n",
    "et la taille en mémoire : $$55 * 8 = 440 \\text{ octets.}$$"
   ]
  },
  {
   "cell_type": "markdown",
   "metadata": {},
   "source": [
    "## Question 5 : Modèles graphiques\n",
    "\n",
    "Afin de représenter efficacement les indépendances conditionnelles utilisées pour représenter une distribution jointe de grande taille, on peut utiliser un graphe orienté qui se lit ainsi : dans la décomposition de la loi jointe, chaque variable $X$ apparaitra dans un facteur de la forme $P(X|Parents_X)$.  On note que cette factorisation n'a de sens que si le graphe n'a pas de circuit (c'est un DAG).\n",
    "\n",
    "Ainsi, on représente la factorisation $P(A,B,C)=P(A)*P(B|A)*P(C|B)$ par le graphe suivant : $A$ n'a pas de parent, $B$ a pour parent $A$ et $C$ a pour parent $B$."
   ]
  },
  {
   "cell_type": "code",
   "execution_count": 18,
   "metadata": {
    "ExecuteTime": {
     "end_time": "2019-03-29T08:53:52.978409Z",
     "start_time": "2019-03-29T08:53:51.759620Z"
    }
   },
   "outputs": [
    {
     "data": {
      "image/png": "[encoded data removed]",
      "text/plain": [
       "<IPython.core.display.Image object>"
      ]
     },
     "execution_count": 18,
     "metadata": {},
     "output_type": "execute_result"
    }
   ],
   "source": [
    "utils.drawGraphHorizontal(\"A->B;B->C\")"
   ]
  },
  {
   "cell_type": "markdown",
   "metadata": {
    "ExecuteTime": {
     "end_time": "2019-02-27T08:15:37.441625Z",
     "start_time": "2019-02-27T08:15:35.340898Z"
    }
   },
   "source": [
    "### Question 5.1\n",
    "\n",
    "<div style=\"float:left;margin:0 10px 10px 0\">\n",
    "    <img src=\"question.png\">\n",
    "</div>\n",
    "Dans les 2 cellules suivantes, dessiner les graphes pour 5 variables $A,B,C,D,E$ complètement indépendantes puis pour ces 5 même variables sans aucune indépendance."
   ]
  },
  {
   "cell_type": "code",
   "execution_count": 19,
   "metadata": {
    "ExecuteTime": {
     "end_time": "2019-03-29T08:53:53.059549Z",
     "start_time": "2019-03-29T08:53:52.983580Z"
    }
   },
   "outputs": [
    {
     "data": {
      "image/png": "[encoded data removed]",
      "text/plain": [
       "<IPython.core.display.Image object>"
      ]
     },
     "execution_count": 19,
     "metadata": {},
     "output_type": "execute_result"
    }
   ],
   "source": [
    "utils.drawGraphHorizontal(\"A;B;C;D;E\") # changer la chaîne pour représenter une indépendance complète entre A,B,C,D,E"
   ]
  },
  {
   "cell_type": "code",
   "execution_count": 20,
   "metadata": {
    "ExecuteTime": {
     "end_time": "2019-03-29T08:53:53.164526Z",
     "start_time": "2019-03-29T08:53:53.061987Z"
    }
   },
   "outputs": [
    {
     "data": {
      "image/png": "[encoded data removed]",
      "text/plain": [
       "<IPython.core.display.Image object>"
      ]
     },
     "execution_count": 20,
     "metadata": {},
     "output_type": "execute_result"
    }
   ],
   "source": [
    "utils.drawGraphHorizontal(\"A->B->C->D->E\") # changer la chaîne pour représenter une dépendance complète entre A,B,C,D,E-"
   ]
  },
  {
   "cell_type": "markdown",
   "metadata": {
    "ExecuteTime": {
     "end_time": "2019-02-27T08:24:01.433601Z",
     "start_time": "2019-02-27T08:24:01.398968Z"
    }
   },
   "source": [
    "### Question 5.2 : naïve Bayes\n",
    "\n",
    "Un modèle simple souvent utilisée est le **Naïve Bayes**. Il suppose que $2$ attributs sont toujours indépendants conditionnellement sachant `target`.\n",
    "\n",
    "Ce modèle est évidemment très simpliste et certainement faux. Toutefois, en classification, il donne souvent de bon résultats."
   ]
  },
  {
   "cell_type": "markdown",
   "metadata": {
    "ExecuteTime": {
     "end_time": "2019-02-27T08:25:22.215498Z",
     "start_time": "2019-02-27T08:25:22.195477Z"
    }
   },
   "source": [
    "<div style=\"float:left;margin:0 10px 10px 0\">\n",
    "    <img src=\"question.png\">\n",
    "</div>\n",
    "Écrire comment se décompose la vraisemblance $P(attr1,attr2,attr3,\\cdots|target)$.\n",
    "\n",
    "Écrire comment se décompose la distribution a posteriori $P(target|attr1,attr2,attr3,\\cdots)$ <em>(ou du moins une fonction proportionnelle à cette distribution a posteriori)</em>."
   ]
  },
  {
   "cell_type": "markdown",
   "metadata": {},
   "source": [
    "### La vraisemblance\n",
    "$$P(attr_1,attr_2,\\cdots,attr_n|target)=P(attr_1|target)\\cdot P(attr_2|target)\\cdots P(attr_n|target)$$\n",
    "\n",
    "### La distribution *a posteriori*\n",
    "\n",
    "$$P(target|attr_1,attr_2,\\cdots attr_n)\\propto \\frac{P(target|attr_1)\\cdot P(target|attr_2)\\cdots P(target|attr_n)}{[P(target)]^{n-1}}$$\n",
    "\n",
    "$$P(target|attr_1,attr_2,\\cdots attr_n)\\propto P(target)\\cdot P(attr_1|target)\\cdot P(attr_2|target)\\cdots P(attr_n|target)$$"
   ]
  },
  {
   "cell_type": "markdown",
   "metadata": {
    "ExecuteTime": {
     "end_time": "2019-02-27T08:33:49.190145Z",
     "start_time": "2019-02-27T08:33:49.168724Z"
    }
   },
   "source": [
    "### Question 5.3 : modèle graphique et naïve bayes\n",
    "\n",
    "Un modèle naïve bayes se représente sous la forme d'un graphe où le noeud `target` est l'unique parent de tous les attributs. Construire une fonction `drawNaiveBayes` qui a partir d'un dataframe et du nom de la colonne qui est la classe, dessine le graphe. \n",
    "\n",
    "**Note** : une fonction qui dessine un graphe retourne un appel à `utils.drawGraph`, par exemple :\n",
    "\n",
    "`\n",
    "def dessin_A_vers_B():\n",
    "    return utils.drawGraph(\"A->B\")\n",
    "`"
   ]
  },
  {
   "cell_type": "code",
   "execution_count": 21,
   "metadata": {
    "ExecuteTime": {
     "end_time": "2019-03-29T08:53:53.256168Z",
     "start_time": "2019-03-29T08:53:53.166096Z"
    }
   },
   "outputs": [
    {
     "data": {
      "image/png": "[encoded data removed]",
      "text/plain": [
       "<IPython.core.display.Image object>"
      ]
     },
     "execution_count": 21,
     "metadata": {},
     "output_type": "execute_result"
    }
   ],
   "source": [
    "projet.drawNaiveBayes(train,\"target\")"
   ]
  },
  {
   "cell_type": "markdown",
   "metadata": {},
   "source": [
    "Écrire une fonction `nbrParamsNaiveBayes` qui calcule la taille mémoire nécessaire pour représenter les tables de probabilité étant donné un dataframe, en supposant qu'un float est représenté sur 8octets et **en utilisant l'hypothèse du Naive Bayes**."
   ]
  },
  {
   "cell_type": "code",
   "execution_count": 22,
   "metadata": {
    "ExecuteTime": {
     "end_time": "2019-03-29T08:53:53.302698Z",
     "start_time": "2019-03-29T08:53:53.257880Z"
    }
   },
   "outputs": [
    {
     "name": "stdout",
     "output_type": "stream",
     "text": [
      "0  variable(s) :  16  octets \n",
      "2  variable(s) :  80  octets \n",
      "2  variable(s) :  224  octets \n",
      "5  variable(s) :  352  octets \n",
      "8  variable(s) :  736  octets \n",
      "14  variable(s) :  1584  octets 1ko 560o\n"
     ]
    }
   ],
   "source": [
    "projet.nbParamsNaiveBayes(train,'target',[])\n",
    "projet.nbParamsNaiveBayes(train,'target',['target','thal'])\n",
    "projet.nbParamsNaiveBayes(train,'target',['target','age'])\n",
    "projet.nbParamsNaiveBayes(train,'target',['target','age','thal','sex','exang'])\n",
    "projet.nbParamsNaiveBayes(train,'target',['target','age','thal','sex','exang','slope','ca','chol'])\n",
    "projet.nbParamsNaiveBayes(train,'target')"
   ]
  },
  {
   "cell_type": "markdown",
   "metadata": {},
   "source": [
    "On voit que l'augmentation de la mémoire nécessaire est raisonnable."
   ]
  },
  {
   "cell_type": "markdown",
   "metadata": {},
   "source": [
    "### Question 5.4 : classifier naïve bayes\n",
    "\n",
    "Afin de ne pas avoir à réécrire la méthode `statsOnDF` qui ne devrait pas changer, écrire les classes `MLNaiveBayesClassifier` et `MAPNaiveBayesClassifier` qui hérite de `AprioriClassifier` et qui utilise le maximum de vraisemblance (ML) et le maximum a posteriori (MAP) pour estimer la classe d'un individu en utilisant l'hypothèse du Naïve Bayes.\n",
    "\n",
    "De la même façon que plus haut, penser à calculer tous les paramètres du Naïve Bayes dans le constructeur de la classe afin de ne pas les recalculer pour chaque classification.\n",
    "\n",
    "Décomposer la méthodes `estimClass` en 2 parties : `estimProbas` qui calcule la vraisemblance et `estimClass` qui utilise `estimProbas` pour choisir la classe comme dans les classifieurs précédents."
   ]
  },
  {
   "cell_type": "code",
   "execution_count": 23,
   "metadata": {
    "ExecuteTime": {
     "end_time": "2019-03-29T08:53:53.445240Z",
     "start_time": "2019-03-29T08:53:53.304308Z"
    }
   },
   "outputs": [
    {
     "name": "stdout",
     "output_type": "stream",
     "text": [
      "Estimation de la proba de l'individu 0 par MLNaiveBayesClassifier : {1: 8.779438846356189e-12, 0: 5.2654740228938083e-11}\n",
      "Estimation de la classe de l'individu 0 par MLNaiveBayesClassifier : 0\n",
      "Estimation de la proba de l'individu 1 par MLNaiveBayesClassifier : {1: 1.9903404816168007e-09, 0: 0.0}\n",
      "Estimation de la classe de l'individu 1 par MLNaiveBayesClassifier : 1\n",
      "Estimation de la proba de l'individu 2 par MLNaiveBayesClassifier : {1: 1.5920340255297033e-06, 0: 3.6835223975945714e-10}\n",
      "Estimation de la classe de l'individu 2 par MLNaiveBayesClassifier : 1\n",
      "test en apprentissage : {'VP': 350, 'VN': 116, 'FP': 22, 'FN': 54, 'Precision': 0.9408602150537635, 'Rappel': 0.8663366336633663}\n",
      "test en validation: {'VP': 49, 'VN': 60, 'FP': 2, 'FN': 89, 'Precision': 0.9607843137254902, 'Rappel': 0.35507246376811596}\n"
     ]
    }
   ],
   "source": [
    "cl=projet.MLNaiveBayesClassifier(train)\n",
    "for i in [0,1,2]:\n",
    "    print(\"Estimation de la proba de l'individu {} par MLNaiveBayesClassifier : {}\".format(i,cl.estimProbas(utils.getNthDict(train,i))))\n",
    "    print(\"Estimation de la classe de l'individu {} par MLNaiveBayesClassifier : {}\".format(i,cl.estimClass(utils.getNthDict(train,i)))) \n",
    "print(\"test en apprentissage : {}\".format(cl.statsOnDF(train)))\n",
    "print(\"test en validation: {}\".format(cl.statsOnDF(test)))"
   ]
  },
  {
   "cell_type": "code",
   "execution_count": 24,
   "metadata": {
    "ExecuteTime": {
     "end_time": "2019-03-29T08:53:53.551008Z",
     "start_time": "2019-03-29T08:53:53.447312Z"
    }
   },
   "outputs": [
    {
     "name": "stdout",
     "output_type": "stream",
     "text": [
      "Estimation de la proba de l'individu 0 par MAPNaiveBayesClassifier : {1: 0.3280136991035896, 0: 0.6719863008964105}\n",
      "Estimation de la classe de l'individu 0 par MAPNaiveBayesClassifier : 0\n",
      "Estimation de la proba de l'individu 1 par MAPNaiveBayesClassifier : {1: 1.0, 0: 0.0}\n",
      "Estimation de la classe de l'individu 1 par MAPNaiveBayesClassifier : 1\n",
      "Estimation de la proba de l'individu 2 par MAPNaiveBayesClassifier : {1: 0.9999209732051012, 0: 7.902679489883748e-05}\n",
      "Estimation de la classe de l'individu 2 par MAPNaiveBayesClassifier : 1\n",
      "test en apprentissage : {'VP': 382, 'VN': 111, 'FP': 27, 'FN': 22, 'Precision': 0.9339853300733496, 'Rappel': 0.9455445544554455}\n",
      "test en validation: {'VP': 53, 'VN': 57, 'FP': 5, 'FN': 85, 'Precision': 0.9137931034482759, 'Rappel': 0.38405797101449274}\n"
     ]
    }
   ],
   "source": [
    "cl=projet.MAPNaiveBayesClassifier(train)\n",
    "for i in [0,1,2]:\n",
    "    print(\"Estimation de la proba de l'individu {} par MAPNaiveBayesClassifier : {}\".format(i,cl.estimProbas(utils.getNthDict(train,i))))\n",
    "    print(\"Estimation de la classe de l'individu {} par MAPNaiveBayesClassifier : {}\".format(i,cl.estimClass(utils.getNthDict(train,i)))) \n",
    "print(\"test en apprentissage : {}\".format(cl.statsOnDF(train)))\n",
    "print(\"test en validation: {}\".format(cl.statsOnDF(test)))"
   ]
  },
  {
   "cell_type": "markdown",
   "metadata": {},
   "source": [
    "## Question 6 : <em>feature selection</em> dans le cadre du classifier naive bayes\n",
    "\n",
    "Il est possible qu'un attribut de la base ne soit pas important pour estimer la classe d'un individu. Dans le cadre du Naïve Bayes, un tel noeud se reconnaît car il est indépendant de `target`. Un tel noeud peut être supprimé du Naïve Bayes.\n",
    "\n",
    "Écrire une fonction `isIndepFromTarget(df,attr,x)` qui vérifie si `attr` est indépendant de `target` au seuil de x%.\n",
    "\n",
    "*Note* : vous avez le droit d'utiliser `scipy.stats.chi2_contingency` dans cette fonction."
   ]
  },
  {
   "cell_type": "code",
   "execution_count": 25,
   "metadata": {
    "ExecuteTime": {
     "end_time": "2019-03-29T08:53:53.592469Z",
     "start_time": "2019-03-29T08:53:53.552396Z"
    }
   },
   "outputs": [
    {
     "name": "stdout",
     "output_type": "stream",
     "text": [
      "target independant de age ? no\n",
      "target independant de sex ? no\n",
      "target independant de cp ? no\n",
      "target independant de trestbps ? **YES**\n",
      "target independant de chol ? no\n",
      "target independant de fbs ? **YES**\n",
      "target independant de restecg ? no\n",
      "target independant de thalach ? no\n",
      "target independant de exang ? no\n",
      "target independant de oldpeak ? no\n",
      "target independant de slope ? no\n",
      "target independant de ca ? no\n",
      "target independant de thal ? no\n"
     ]
    }
   ],
   "source": [
    "for attr in train.keys():\n",
    "    if attr!='target':\n",
    "        print(\"target independant de {} ? {}\".format(attr,\"**YES**\" if projet.isIndepFromTarget(train,attr,0.01) else \"no\"))"
   ]
  },
  {
   "cell_type": "markdown",
   "metadata": {},
   "source": [
    "Proposer des classifieurs `ReducedMLNaiveBayesClassifier` et `ReducedMAPNaiveBayesClassifier` qui utilisent le maximum de vraisemblance (ML) et le maximum a posteriori (MAP) pour estimer la classe d'un individu sur un modèle Naïve Bayes qu'ils auront préalablement optimisé grâce à des tests d'indépendance au seuil de $x\\%$ (donné en paramètre du constructeur). Rajouter une méthode `ReducedMAPNaiveBayesClassifier.draw` afin de pouvoir dessiner le Naïve Bayes réduit effectivement utilisé. "
   ]
  },
  {
   "cell_type": "code",
   "execution_count": 26,
   "metadata": {
    "ExecuteTime": {
     "end_time": "2019-03-29T08:53:53.850472Z",
     "start_time": "2019-03-29T08:53:53.594992Z"
    }
   },
   "outputs": [
    {
     "data": {
      "image/png": "[encoded data removed]",
      "text/plain": [
       "<IPython.core.display.Image object>"
      ]
     },
     "execution_count": 26,
     "metadata": {},
     "output_type": "execute_result"
    }
   ],
   "source": [
    "cl=projet.ReducedMLNaiveBayesClassifier(train,0.05)\n",
    "cl.draw()"
   ]
  },
  {
   "cell_type": "code",
   "execution_count": 27,
   "metadata": {
    "ExecuteTime": {
     "end_time": "2019-03-29T08:53:53.972341Z",
     "start_time": "2019-03-29T08:53:53.852325Z"
    }
   },
   "outputs": [
    {
     "data": {
      "image/png": "[encoded data removed]",
      "text/plain": [
       "<IPython.core.display.Image object>"
      ]
     },
     "execution_count": 27,
     "metadata": {},
     "output_type": "execute_result"
    }
   ],
   "source": [
    "cl=projet.ReducedMLNaiveBayesClassifier(train,0.01)\n",
    "cl.draw()"
   ]
  },
  {
   "cell_type": "code",
   "execution_count": 28,
   "metadata": {
    "ExecuteTime": {
     "end_time": "2019-03-29T08:53:54.019145Z",
     "start_time": "2019-03-29T08:53:53.973840Z"
    }
   },
   "outputs": [
    {
     "name": "stdout",
     "output_type": "stream",
     "text": [
      "Estimation de la proba de l'individu 0 par ReducedMLNaiveBayesClassifier : {1: 2.138723717532644e-09, 0: 5.697482232499415e-09}\n",
      "Estimation de la classe de l'individu 0 par ReducedMLNaiveBayesClassifier : 0\n",
      "Estimation de la proba de l'individu 1 par ReducedMLNaiveBayesClassifier : {1: 1.1475745797921707e-08, 0: 0.0}\n",
      "Estimation de la classe de l'individu 1 par ReducedMLNaiveBayesClassifier : 1\n",
      "Estimation de la proba de l'individu 2 par ReducedMLNaiveBayesClassifier : {1: 9.179222322695215e-06, 0: 2.748785287609367e-09}\n",
      "Estimation de la classe de l'individu 2 par ReducedMLNaiveBayesClassifier : 1\n",
      "test en apprentissage : {'VP': 348, 'VN': 117, 'FP': 21, 'FN': 56, 'Precision': 0.943089430894309, 'Rappel': 0.8613861386138614}\n",
      "test en validation: {'VP': 49, 'VN': 61, 'FP': 1, 'FN': 89, 'Precision': 0.98, 'Rappel': 0.35507246376811596}\n"
     ]
    }
   ],
   "source": [
    "for i in [0,1,2]:\n",
    "    print(\"Estimation de la proba de l'individu {} par ReducedMLNaiveBayesClassifier : {}\".format(i,cl.estimProbas(utils.getNthDict(train,i))))\n",
    "    print(\"Estimation de la classe de l'individu {} par ReducedMLNaiveBayesClassifier : {}\".format(i,cl.estimClass(utils.getNthDict(train,i)))) \n",
    "print(\"test en apprentissage : {}\".format(cl.statsOnDF(train)))\n",
    "print(\"test en validation: {}\".format(cl.statsOnDF(test)))"
   ]
  },
  {
   "cell_type": "code",
   "execution_count": 29,
   "metadata": {
    "ExecuteTime": {
     "end_time": "2019-03-29T08:53:54.211400Z",
     "start_time": "2019-03-29T08:53:54.021079Z"
    }
   },
   "outputs": [
    {
     "data": {
      "image/png": "[encoded data removed]",
      "text/plain": [
       "<IPython.core.display.Image object>"
      ]
     },
     "execution_count": 29,
     "metadata": {},
     "output_type": "execute_result"
    }
   ],
   "source": [
    "cl=projet.ReducedMAPNaiveBayesClassifier(train,0.01)\n",
    "cl.draw()"
   ]
  },
  {
   "cell_type": "code",
   "execution_count": 30,
   "metadata": {
    "ExecuteTime": {
     "end_time": "2019-03-29T08:53:54.260531Z",
     "start_time": "2019-03-29T08:53:54.213837Z"
    }
   },
   "outputs": [
    {
     "name": "stdout",
     "output_type": "stream",
     "text": [
      "Estimation de la proba de l'individu 0 par ReducedMAPNaiveBayesClassifier : {1: 0.5235690415420492, 0: 0.47643095845795086}\n",
      "Estimation de la classe de l'individu 0 par ReducedMAPNaiveBayesClassifier : 1\n",
      "Estimation de la proba de l'individu 1 par ReducedMAPNaiveBayesClassifier : {1: 1.0, 0: 0.0}\n",
      "Estimation de la classe de l'individu 1 par ReducedMAPNaiveBayesClassifier : 1\n",
      "Estimation de la proba de l'individu 2 par ReducedMAPNaiveBayesClassifier : {1: 0.9998977205865877, 0: 0.00010227941341238206}\n",
      "Estimation de la classe de l'individu 2 par ReducedMAPNaiveBayesClassifier : 1\n",
      "test en apprentissage : {'VP': 375, 'VN': 110, 'FP': 28, 'FN': 29, 'Precision': 0.9305210918114144, 'Rappel': 0.9282178217821783}\n",
      "test en validation: {'VP': 53, 'VN': 56, 'FP': 6, 'FN': 85, 'Precision': 0.8983050847457628, 'Rappel': 0.38405797101449274}\n"
     ]
    }
   ],
   "source": [
    "for i in [0,1,2]:\n",
    "    print(\"Estimation de la proba de l'individu {} par ReducedMAPNaiveBayesClassifier : {}\".format(i,cl.estimProbas(utils.getNthDict(train,i))))\n",
    "    print(\"Estimation de la classe de l'individu {} par ReducedMAPNaiveBayesClassifier : {}\".format(i,cl.estimClass(utils.getNthDict(train,i)))) \n",
    "print(\"test en apprentissage : {}\".format(cl.statsOnDF(train)))\n",
    "print(\"test en validation: {}\".format(cl.statsOnDF(test)))"
   ]
  },
  {
   "cell_type": "markdown",
   "metadata": {},
   "source": [
    "## Question 7 : évaluation des classifieurs\n",
    "\n",
    "Nous commençons à avoir pas mal de classifieurs. Pour les comparer, une possibilité est d'utiliser la représentation graphique des points $(précision,rappel)$ de chacun."
   ]
  },
  {
   "cell_type": "markdown",
   "metadata": {},
   "source": [
    "### Question 7.1\n",
    "\n",
    "<div style=\"float:left;margin:0 10px 10px 0\">\n",
    "    <img src=\"question.png\">\n",
    "</div>\n",
    "Où se trouve à votre avis le point idéal ? Comment pourriez-vous proposer de comparer les différents classifieurs dans cette représentation graphique ?"
   ]
  },
  {
   "cell_type": "markdown",
   "metadata": {},
   "source": [
    "#### Precision = $\\frac{VP}{VP\\cdot FP}$\n",
    "#### Rappel = $\\frac{VP}{VP\\cdot FN}$\n",
    "**En théorie, le point idéal serait situé en (1,1). En effet, ce point correspond au fait que toutes les estimations sont correctes (100% de vrais positifs et vrais négatifs). Autrement dit, on n'a aucune estimation fausse ( FN = 0 et FP = 0 ).**\n",
    "\n",
    "\n",
    "**En pratique, le but est de maximiser à la fois la précision ( Quelle proportion d'identifications positives était effectivement correcte?) et le rappel (Quelle proportion de résultats positifs réels a été identifiée correctement?), cependant, l'amélioration de l'un se fait toujours au détriment de l'autre donc il est nécessaire de trouver un equilibre entre les deux pour pouvoir comparer les classifieurs entre eux.**\n",
    "\n",
    "**Cet equilibre est souvent définie selon le problème que traite les classifieurs, pour certains problèmes on aura besoin d'une précision plus grande et pour d'autre un rappel plus grand. Sur les graphes ci-dessous, on pourra dire que plus un point est proche en distance du point (1,1), plus le classifieur est bon.**"
   ]
  },
  {
   "cell_type": "markdown",
   "metadata": {
    "ExecuteTime": {
     "end_time": "2019-03-06T13:28:47.631486Z",
     "start_time": "2019-03-06T13:28:47.605743Z"
    }
   },
   "source": [
    "### Question 7.2 \n",
    "\n",
    "Ecrire une fonction `mapClassifiers(dic,df)` qui, à partir d'un dictionnaire `dic` de `{nom:instance de classifier}` et d'un dataframe `df`, représente graphiquement ces classifiers dans l'espace $(précision,rappel)$."
   ]
  },
  {
   "cell_type": "code",
   "execution_count": 31,
   "metadata": {
    "ExecuteTime": {
     "end_time": "2019-03-29T08:53:54.793695Z",
     "start_time": "2019-03-29T08:53:54.262203Z"
    }
   },
   "outputs": [
    {
     "data": {
      "image/png": "[encoded data removed]",
      "text/plain": [
       "<Figure size 432x288 with 1 Axes>"
      ]
     },
     "metadata": {
      "needs_background": "light"
     },
     "output_type": "display_data"
    }
   ],
   "source": [
    "projet.mapClassifiers({\"1\":projet.APrioriClassifier(),\n",
    "                \"2\":projet.ML2DClassifier(train,\"exang\"),\n",
    "                \"3\":projet.MAP2DClassifier(train,\"exang\"),\n",
    "                \"4\":projet.MAPNaiveBayesClassifier(train),\n",
    "                \"5\":projet.MLNaiveBayesClassifier(train),\n",
    "                \"6\":projet.ReducedMAPNaiveBayesClassifier(train,0.01),\n",
    "                \"7\":projet.ReducedMLNaiveBayesClassifier(train,0.01),\n",
    "               },train)"
   ]
  },
  {
   "cell_type": "code",
   "execution_count": 32,
   "metadata": {
    "ExecuteTime": {
     "end_time": "2019-03-29T08:53:55.190983Z",
     "start_time": "2019-03-29T08:53:54.795191Z"
    }
   },
   "outputs": [
    {
     "data": {
      "image/png": "[encoded data removed]",
      "text/plain": [
       "<Figure size 432x288 with 1 Axes>"
      ]
     },
     "metadata": {
      "needs_background": "light"
     },
     "output_type": "display_data"
    }
   ],
   "source": [
    "projet.mapClassifiers({\"1\":projet.APrioriClassifier(),\n",
    "                \"2\":projet.ML2DClassifier(train,\"exang\"),\n",
    "                \"3\":projet.MAP2DClassifier(train,\"exang\"),\n",
    "                \"4\":projet.MAPNaiveBayesClassifier(train),\n",
    "                \"5\":projet.MLNaiveBayesClassifier(train),\n",
    "                \"6\":projet.ReducedMAPNaiveBayesClassifier(train,0.01),\n",
    "                \"7\":projet.ReducedMLNaiveBayesClassifier(train,0.01),\n",
    "               },test)"
   ]
  },
  {
   "cell_type": "markdown",
   "metadata": {},
   "source": [
    "## Question 8 : Sophistication du modèle (question BONUS)\n",
    "\n",
    "Utiliser un arbre pour représenter la factorisation de la loi jointe est bien sûr une simplification : beaucoup de distribution ne peuvent être représentées avec un seul parent par variable.\n",
    "\n",
    "Un modèle plus sophisitiqué existe donc : le TAN (Tree-augmented Naïve Bayes). Il consiste à rajouter au plus un parent à chaque attribut parmi les autres attributs (sans créer de cycle). En plus des arcs les reliant à la classe, un TABN induit donc un arbre (plus exactement une forêt) parmi les attributs.\n",
    "\n",
    "Ci-dessous un TAN dont la classe est $T$."
   ]
  },
  {
   "cell_type": "code",
   "execution_count": 33,
   "metadata": {
    "ExecuteTime": {
     "end_time": "2019-03-29T08:53:55.264908Z",
     "start_time": "2019-03-29T08:53:55.192793Z"
    }
   },
   "outputs": [
    {
     "data": {
      "image/png": "[encoded data removed]",
      "text/plain": [
       "<IPython.core.display.Image object>"
      ]
     },
     "execution_count": 33,
     "metadata": {},
     "output_type": "execute_result"
    }
   ],
   "source": [
    "utils.drawGraph(\"T->X1;T->X2;T->X3;T->X4;T->X5;X1->X2;X1->X3;X3->X5\")"
   ]
  },
  {
   "cell_type": "markdown",
   "metadata": {
    "ExecuteTime": {
     "end_time": "2019-03-20T08:57:38.069802Z",
     "start_time": "2019-03-20T08:57:38.018803Z"
    }
   },
   "source": [
    "et dont l'arbre (la forêt) sur les attributs est bien :"
   ]
  },
  {
   "cell_type": "code",
   "execution_count": 34,
   "metadata": {
    "ExecuteTime": {
     "end_time": "2019-03-29T08:53:55.361461Z",
     "start_time": "2019-03-29T08:53:55.267162Z"
    }
   },
   "outputs": [
    {
     "data": {
      "image/png": "[encoded data removed]",
      "text/plain": [
       "<IPython.core.display.Image object>"
      ]
     },
     "execution_count": 34,
     "metadata": {},
     "output_type": "execute_result"
    }
   ],
   "source": [
    "utils.drawGraph(\"X1->X2;X1->X3;X3->X5;X4\")"
   ]
  },
  {
   "cell_type": "markdown",
   "metadata": {},
   "source": [
    "L'algorithme pour générer cette structure se base sur une autre façon de tester l'indépendance entre deux variables aléatoires : l'information mutuelle qui calcule une distance entre la distribution des 2 variables et la distribution si ces 2 variables étaient indépendantes (voir https://fr.wikipedia.org/wiki/Information_mutuelle). Pour construire l'arbre (la forêt) entre les attributs, sachant qu'on garde les arcs issus de la classe, il faut tester des indépendances conditionnelles et donc calculer des informations mutuelles conditionnelles (https://en.wikipedia.org/wiki/Conditional_mutual_information).\n",
    "\n",
    "On gardera de ces pages les deux formules :\n",
    "$$I(X;Y)=\\sum_{x,y} P(x,y)\\log_2\\frac{P(x,y)}{P(x)P(y)}$$\n",
    "\n",
    "$$I(X;Y|Z)=\\sum_{z,x,y} P(x,y,z)\\log_2\\frac{P(z)P(x,y,z)}{P(x,z)P(y,z)}$$\n",
    "\n",
    "Et on remarquera que :\n",
    "- $P(x,z)=\\sum_y P(x,y,z)$, \n",
    "- $P(y,z)=\\sum_x P(x,y,z)$, \n",
    "- $P(z)=\\sum_{x,y} P(x,y,z)$, \n",
    "- etc.\n",
    "\n",
    "## Question 8.1 : calcul des informations mutuelles\n",
    "Écrire des fonctions `projet.MutualInformation(df,x,y)` et `projet.ConditionalMutualInformation(df,x,y,z)` qui calcule ces informations mutuelles"
   ]
  },
  {
   "cell_type": "code",
   "execution_count": 35,
   "metadata": {
    "ExecuteTime": {
     "end_time": "2019-03-29T08:53:55.446614Z",
     "start_time": "2019-03-29T08:53:55.363115Z"
    },
    "scrolled": true
   },
   "outputs": [
    {
     "name": "stdout",
     "output_type": "stream",
     "text": [
      "target->age : 0.05909066656653638\n",
      "target->sex : 0.03594453596720189\n",
      "target->cp : 0.15995396264990075\n",
      "target->trestbps : 0.041198012161015284\n",
      "target->chol : 0.04058243330573423\n",
      "target->fbs : 4.1345596878209325e-05\n",
      "target->restecg : 0.016139208672463053\n",
      "target->thalach : 0.14015721668140793\n",
      "target->exang : 0.10148366175826357\n",
      "target->oldpeak : 0.13935734517832762\n",
      "target->slope : 0.09388378255610791\n",
      "target->ca : 0.14051038130632754\n",
      "target->thal : 0.16255361669359983\n"
     ]
    }
   ],
   "source": [
    "for attr in train.keys():\n",
    "    if attr!='target':\n",
    "        print(\"{}->{} : {}\".format(\"target\",attr,projet.MutualInformation(train,\"target\",attr)))"
   ]
  },
  {
   "cell_type": "markdown",
   "metadata": {},
   "source": [
    "(On retrouve au passage que trestbs et surtout fbs sont très peu dépendantes de la classe ...)"
   ]
  },
  {
   "cell_type": "code",
   "execution_count": 36,
   "metadata": {
    "ExecuteTime": {
     "end_time": "2019-03-29T08:53:57.006361Z",
     "start_time": "2019-03-29T08:53:55.448318Z"
    }
   },
   "outputs": [
    {
     "data": {
      "text/plain": [
       "array([[0.        , 0.07172827, 0.20250622, 0.6417183 , 0.55128095],\n",
       "       [0.07172827, 0.        , 0.01672381, 0.06361231, 0.12140024],\n",
       "       [0.20250622, 0.01672381, 0.        , 0.22413205, 0.18890573],\n",
       "       [0.6417183 , 0.06361231, 0.22413205, 0.        , 0.68149423],\n",
       "       [0.55128095, 0.12140024, 0.18890573, 0.68149423, 0.        ]])"
      ]
     },
     "execution_count": 36,
     "metadata": {},
     "output_type": "execute_result"
    }
   ],
   "source": [
    "cmis=np.array([[0 if x==y else projet.ConditionalMutualInformation(train,x,y,\"target\") \n",
    "                for x in train.keys() if x!=\"target\"]\n",
    "               for y in train.keys() if y!=\"target\"])\n",
    "cmis[0:5,0:5]"
   ]
  },
  {
   "cell_type": "markdown",
   "metadata": {
    "ExecuteTime": {
     "end_time": "2019-03-20T09:27:35.421093Z",
     "start_time": "2019-03-20T09:27:35.392605Z"
    }
   },
   "source": [
    "(on remarque que, évidemment, la matrice `cmis` est symétrique)"
   ]
  },
  {
   "cell_type": "markdown",
   "metadata": {},
   "source": [
    "## Question 8.2 : calcul de la matrice des poids\n",
    "La matrice `cmis` calculé ci-dessus représente l'ensemble des arcs possibles entre les attributs et leur poids. Pour trouver un arbre dans ces arcs, on commence par simplifier cette matrice en supprimant les poids faibles. Par exemple, en retirant la moyenne.\n",
    "\n",
    "Faites une fonction `projet.MeanForSymetricWeights(a)` qui calcule la moyenne des poids pour une matrice `a` symétrique de diagonale nulle.\n",
    "\n",
    "Puis écrire une fonction `projet.simplifyContitionalMutualInformationMatrix(a)` qui annule toutes les valeurs plus petites que cette moyenne dans une matrice  `a` symétrique de diagonale nulle."
   ]
  },
  {
   "cell_type": "code",
   "execution_count": 37,
   "metadata": {
    "ExecuteTime": {
     "end_time": "2019-03-29T08:53:57.022198Z",
     "start_time": "2019-03-29T08:53:57.008465Z"
    }
   },
   "outputs": [
    {
     "data": {
      "text/plain": [
       "0.14490408192274778"
      ]
     },
     "execution_count": 37,
     "metadata": {},
     "output_type": "execute_result"
    }
   ],
   "source": [
    "projet.MeanForSymetricWeights(cmis)"
   ]
  },
  {
   "cell_type": "code",
   "execution_count": 38,
   "metadata": {
    "ExecuteTime": {
     "end_time": "2019-03-29T08:53:57.098329Z",
     "start_time": "2019-03-29T08:53:57.023962Z"
    }
   },
   "outputs": [
    {
     "data": {
      "text/plain": [
       "array([[0.        , 0.        , 0.20250622, 0.6417183 , 0.55128095],\n",
       "       [0.        , 0.        , 0.        , 0.        , 0.        ],\n",
       "       [0.20250622, 0.        , 0.        , 0.22413205, 0.18890573],\n",
       "       [0.6417183 , 0.        , 0.22413205, 0.        , 0.68149423],\n",
       "       [0.55128095, 0.        , 0.18890573, 0.68149423, 0.        ]])"
      ]
     },
     "execution_count": 38,
     "metadata": {},
     "output_type": "execute_result"
    }
   ],
   "source": [
    "projet.SimplifyConditionalMutualInformationMatrix(cmis)\n",
    "cmis[0:5,0:5]"
   ]
  },
  {
   "cell_type": "markdown",
   "metadata": {},
   "source": [
    "## Question 8.3 : Arbre (forêt) optimal entre les attributs\n",
    "\n",
    "Un algorithme pour trouver un arbre de poids maximal est l'algorithm de Kruskal (https://fr.wikipedia.org/wiki/Algorithme_de_Kruskal). En se souvenant qu'on veut relier les attributs si ils sont très dépendants, écrire la fonction `projet.Kruskal(df,a)` qui propose la liste des arcs (non orientés pour l'instant) à ajouter dans notre classifieur sous la forme d'une liste de triplet $(attr1,attr2,poids)$. \n",
    "\n",
    "<b>Remarque</b> : `df` ne sert ici qu'à retrouver le nom des attributs à partir de leur indice grâce à `train.keys()[i]`."
   ]
  },
  {
   "cell_type": "code",
   "execution_count": 39,
   "metadata": {
    "ExecuteTime": {
     "end_time": "2019-03-29T08:53:57.156399Z",
     "start_time": "2019-03-29T08:53:57.099744Z"
    }
   },
   "outputs": [
    {
     "data": {
      "text/plain": [
       "[('trestbps', 'chol', 0.6814942282235203),\n",
       " ('age', 'trestbps', 0.6417182959085129),\n",
       " ('age', 'thalach', 0.6365766485465846),\n",
       " ('chol', 'oldpeak', 0.5246930555244584),\n",
       " ('oldpeak', 'slope', 0.25839871090530625),\n",
       " ('chol', 'ca', 0.25283279561816646),\n",
       " ('cp', 'trestbps', 0.22413205121660507),\n",
       " ('thalach', 'thal', 0.15528941819154782)]"
      ]
     },
     "execution_count": 39,
     "metadata": {},
     "output_type": "execute_result"
    }
   ],
   "source": [
    "liste_arcs=projet.Kruskal(train,cmis)\n",
    "liste_arcs"
   ]
  },
  {
   "cell_type": "markdown",
   "metadata": {
    "ExecuteTime": {
     "end_time": "2019-03-20T10:19:02.386792Z",
     "start_time": "2019-03-20T10:19:02.365286Z"
    }
   },
   "source": [
    "## Question 8.4: Orientation des arcs entre attributs.\n",
    "\n",
    "Il s'agit maintenant d'orienter l'arbre (la forêt) entre les attributs. On choisit la (ou les) racine(s) en maximisant l'information mutuelle entre ces attributs et la classe (donc en utilisant `projet.MutualInformation`.\n",
    "\n",
    "Créer une fonction `projet.ConnexSet(list_arcs)` qui rend une liste d'ensemble d'attributs connectés, "
   ]
  },
  {
   "cell_type": "code",
   "execution_count": 40,
   "metadata": {
    "ExecuteTime": {
     "end_time": "2019-03-29T08:53:57.223476Z",
     "start_time": "2019-03-29T08:53:57.158275Z"
    }
   },
   "outputs": [
    {
     "data": {
      "text/plain": [
       "[{'a', 'b', 'c'}, {'d', 'e'}]"
      ]
     },
     "execution_count": 40,
     "metadata": {},
     "output_type": "execute_result"
    }
   ],
   "source": [
    "# 3 arcs de poids 1 dans le graphe a--b--c   d--e\n",
    "projet.ConnexSets([('a','b',1),\n",
    "                   ('a','c',1),\n",
    "                   ('d','e',1)])"
   ]
  },
  {
   "cell_type": "code",
   "execution_count": 41,
   "metadata": {
    "ExecuteTime": {
     "end_time": "2019-03-29T08:53:57.288767Z",
     "start_time": "2019-03-29T08:53:57.225213Z"
    }
   },
   "outputs": [
    {
     "data": {
      "text/plain": [
       "[{'a', 'b', 'c', 'd', 'e'}, {'p', 'q'}]"
      ]
     },
     "execution_count": 41,
     "metadata": {},
     "output_type": "execute_result"
    }
   ],
   "source": [
    "projet.ConnexSets([('a', 'b', 2), ('a', 'c', 2), ('b', 'c', 3), \n",
    "                   ('a', 'd', 3), ('a', 'a', 2), ('d', 'e', 3), ('p', 'q', 5)])"
   ]
  },
  {
   "cell_type": "code",
   "execution_count": 42,
   "metadata": {
    "ExecuteTime": {
     "end_time": "2019-03-29T08:53:57.356255Z",
     "start_time": "2019-03-29T08:53:57.290117Z"
    }
   },
   "outputs": [
    {
     "data": {
      "text/plain": [
       "[{'age',\n",
       "  'ca',\n",
       "  'chol',\n",
       "  'cp',\n",
       "  'oldpeak',\n",
       "  'slope',\n",
       "  'thal',\n",
       "  'thalach',\n",
       "  'trestbps'}]"
      ]
     },
     "execution_count": 42,
     "metadata": {},
     "output_type": "execute_result"
    }
   ],
   "source": [
    "projet.ConnexSets(liste_arcs)"
   ]
  },
  {
   "cell_type": "markdown",
   "metadata": {
    "ExecuteTime": {
     "end_time": "2019-03-20T10:19:02.386792Z",
     "start_time": "2019-03-20T10:19:02.365286Z"
    }
   },
   "source": [
    "Puis écrire une fonction `projet.OrientConnexSets(df,arcs,classe)` qui utilise l'information mutuelle (entre chaque attribut et la `classe`) pour proposer pour chaque ensemble d'attributs connexes une racine et qui rend la liste des arcs orientés."
   ]
  },
  {
   "cell_type": "code",
   "execution_count": 43,
   "metadata": {
    "ExecuteTime": {
     "end_time": "2019-03-29T08:53:57.477952Z",
     "start_time": "2019-03-29T08:53:57.357649Z"
    }
   },
   "outputs": [
    {
     "data": {
      "text/plain": [
       "[('thal', 'thalach'),\n",
       " ('thalach', 'age'),\n",
       " ('age', 'trestbps'),\n",
       " ('trestbps', 'chol'),\n",
       " ('trestbps', 'cp'),\n",
       " ('chol', 'oldpeak'),\n",
       " ('chol', 'ca'),\n",
       " ('oldpeak', 'slope')]"
      ]
     },
     "execution_count": 43,
     "metadata": {},
     "output_type": "execute_result"
    }
   ],
   "source": [
    "projet.OrientConnexSets(train,liste_arcs,'target')"
   ]
  },
  {
   "cell_type": "markdown",
   "metadata": {
    "ExecuteTime": {
     "end_time": "2019-03-20T11:29:59.990951Z",
     "start_time": "2019-03-20T11:29:59.971736Z"
    }
   },
   "source": [
    "## Question 8.5: Classifieur TAN\n",
    "Écrire un `MAPTANClassifier(df)` qui construit un modèle TAN en suivant la procédure ci-dessus. Lui ajouter une procédure `Draw()`"
   ]
  },
  {
   "cell_type": "code",
   "execution_count": 44,
   "metadata": {
    "ExecuteTime": {
     "end_time": "2019-03-29T08:53:59.361999Z",
     "start_time": "2019-03-29T08:53:57.479334Z"
    }
   },
   "outputs": [
    {
     "data": {
      "image/png": "[encoded data removed]",
      "text/plain": [
       "<IPython.core.display.Image object>"
      ]
     },
     "execution_count": 44,
     "metadata": {},
     "output_type": "execute_result"
    }
   ],
   "source": [
    "tan=projet.MAPTANClassifier(train)\n",
    "tan.draw()"
   ]
  },
  {
   "cell_type": "code",
   "execution_count": 45,
   "metadata": {
    "ExecuteTime": {
     "end_time": "2019-03-29T08:53:59.418600Z",
     "start_time": "2019-03-29T08:53:59.364069Z"
    },
    "code_folding": [],
    "scrolled": false
   },
   "outputs": [
    {
     "name": "stdout",
     "output_type": "stream",
     "text": [
      "Estimation de la proba de l'individu 0 par MAPTANClassifier : {1: 1.0, 0: 0.0}\n",
      "Estimation de la classe de l'individu 0 par MAPTANClassifier : 1\n",
      "Estimation de la proba de l'individu 1 par MAPTANClassifier : {1: 1.0, 0: 0.0}\n",
      "Estimation de la classe de l'individu 1 par MAPTANClassifier : 1\n",
      "Estimation de la proba de l'individu 2 par MAPTANClassifier : {1: 1.0, 0: 0.0}\n",
      "Estimation de la classe de l'individu 2 par MAPTANClassifier : 1\n",
      "test en apprentissage : {'VP': 398, 'VN': 131, 'FP': 7, 'FN': 6, 'Precision': 0.9827160493827161, 'Rappel': 0.9851485148514851}\n",
      "test en validation: {'VP': 17, 'VN': 61, 'FP': 1, 'FN': 121, 'Precision': 0.9444444444444444, 'Rappel': 0.12318840579710146}\n"
     ]
    }
   ],
   "source": [
    "for i in [0,1,2]:\n",
    "    print(\"Estimation de la proba de l'individu {} par MAPTANClassifier : {}\".format(i,tan.estimProbas(utils.getNthDict(train,i))))\n",
    "    print(\"Estimation de la classe de l'individu {} par MAPTANClassifier : {}\".format(i,tan.estimClass(utils.getNthDict(train,i)))) \n",
    "print(\"test en apprentissage : {}\".format(tan.statsOnDF(train)))\n",
    "print(\"test en validation: {}\".format(tan.statsOnDF(test)))"
   ]
  },
  {
   "cell_type": "code",
   "execution_count": 46,
   "metadata": {
    "ExecuteTime": {
     "end_time": "2019-03-29T08:54:01.597355Z",
     "start_time": "2019-03-29T08:53:59.420092Z"
    }
   },
   "outputs": [
    {
     "data": {
      "image/png": "[encoded data removed]",
      "text/plain": [
       "<Figure size 432x288 with 1 Axes>"
      ]
     },
     "metadata": {
      "needs_background": "light"
     },
     "output_type": "display_data"
    }
   ],
   "source": [
    "projet.mapClassifiers({\"1\":projet.APrioriClassifier(),\n",
    "                \"2\":projet.ML2DClassifier(train,\"exang\"),\n",
    "                \"3\":projet.MAP2DClassifier(train,\"exang\"),\n",
    "                \"4\":projet.MAPNaiveBayesClassifier(train),\n",
    "                \"5\":projet.MLNaiveBayesClassifier(train),\n",
    "                \"6\":projet.ReducedMAPNaiveBayesClassifier(train,0.01),\n",
    "                \"7\":projet.ReducedMLNaiveBayesClassifier(train,0.01),\n",
    "                \"8\":projet.MAPTANClassifier(train),\n",
    "               },train)"
   ]
  },
  {
   "cell_type": "code",
   "execution_count": 47,
   "metadata": {
    "ExecuteTime": {
     "end_time": "2019-03-29T08:54:03.520094Z",
     "start_time": "2019-03-29T08:54:01.598936Z"
    }
   },
   "outputs": [
    {
     "data": {
      "image/png": "[encoded data removed]",
      "text/plain": [
       "<Figure size 432x288 with 1 Axes>"
      ]
     },
     "metadata": {
      "needs_background": "light"
     },
     "output_type": "display_data"
    }
   ],
   "source": [
    "projet.mapClassifiers({\"1\":projet.APrioriClassifier(),\n",
    "                \"2\":projet.ML2DClassifier(train,\"exang\"),\n",
    "                \"3\":projet.MAP2DClassifier(train,\"exang\"),\n",
    "                \"4\":projet.MAPNaiveBayesClassifier(train),\n",
    "                \"5\":projet.MLNaiveBayesClassifier(train),\n",
    "                \"6\":projet.ReducedMAPNaiveBayesClassifier(train,0.01),\n",
    "                \"7\":projet.ReducedMLNaiveBayesClassifier(train,0.01),\n",
    "                \"8\":projet.MAPTANClassifier(train),\n",
    "               },test)"
   ]
  },
  {
   "cell_type": "markdown",
   "metadata": {},
   "source": [
    "### Question 9\n",
    "\n",
    "<div style=\"float:left;margin:0 10px 10px 0\">\n",
    "    <img src=\"question.png\">\n",
    "</div>\n",
    "Quelle leçons & conclusion tirez-vous de ces expériences sur les classifieurs bayésiens ?"
   ]
  },
  {
   "cell_type": "markdown",
   "metadata": {},
   "source": [
    "* Les classifieurs bayesiens ont fait preuve d'une assez bonne efficacité malgré les hypothèses simplificatrices que font ces méthodes d'apprentissage.\n",
    "* Les classifieurs MAPNaiveBayes et MLNaiveBayes et leurs versions réduites donne un rappel très faible sur les données de test, ce qui fait d'eux des classifieurs \"mauvais\" pour ce type de problème (predire qu'un individu n'est pas malade sachant qu'il l'est).\n",
    "* On remarque egalement que plus on fournit d'information aux classifieurx, plus on se retrouve dans une situation d'overfitting et donc ils deviennent moins performant sur les données de tests.\n",
    "* Le classifieur MAPTAN permet de faire une selection plus fine et plus pértinentes des variables ce qui apporte une amélioration aux classifieurs bayésiens."
   ]
  }
 ],
 "metadata": {
  "hide_input": false,
  "kernelspec": {
   "display_name": "Python 3",
   "language": "python",
   "name": "python3"
  },
  "language_info": {
   "codemirror_mode": {
    "name": "ipython",
    "version": 3
   },
   "file_extension": ".py",
   "mimetype": "text/x-python",
   "name": "python",
   "nbconvert_exporter": "python",
   "pygments_lexer": "ipython3",
   "version": "3.7.1"
  },
  "varInspector": {
   "cols": {
    "lenName": 16,
    "lenType": 16,
    "lenVar": 40
   },
   "kernels_config": {
    "python": {
     "delete_cmd_postfix": "",
     "delete_cmd_prefix": "del ",
     "library": "var_list.py",
     "varRefreshCmd": "print(var_dic_list())"
    },
    "r": {
     "delete_cmd_postfix": ") ",
     "delete_cmd_prefix": "rm(",
     "library": "var_list.r",
     "varRefreshCmd": "cat(var_dic_list()) "
    }
   },
   "types_to_exclude": [
    "module",
    "function",
    "builtin_function_or_method",
    "instance",
    "_Feature"
   ],
   "window_display": false
  }
 },
 "nbformat": 4,
 "nbformat_minor": 2
}
